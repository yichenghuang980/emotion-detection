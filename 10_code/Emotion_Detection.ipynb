{
  "nbformat": 4,
  "nbformat_minor": 0,
  "metadata": {
    "kernelspec": {
      "display_name": "Python 3",
      "language": "python",
      "name": "python3"
    },
    "language_info": {
      "codemirror_mode": {
        "name": "ipython",
        "version": 3
      },
      "file_extension": ".py",
      "mimetype": "text/x-python",
      "name": "python",
      "nbconvert_exporter": "python",
      "pygments_lexer": "ipython3",
      "version": "3.7.6"
    },
    "colab": {
      "name": "Emotion_Detection.ipynb",
      "provenance": [],
      "collapsed_sections": []
    }
  },
  "cells": [
    {
      "cell_type": "code",
      "metadata": {
        "colab": {
          "base_uri": "https://localhost:8080/"
        },
        "id": "no5BAGRzwaj1",
        "outputId": "4b3d14ca-e167-41c1-c66e-48accdf5366d"
      },
      "source": [
        "from google.colab import drive\n",
        "drive.mount(\"/content/gdrive\")"
      ],
      "execution_count": 2,
      "outputs": [
        {
          "output_type": "stream",
          "text": [
            "Mounted at /content/gdrive\n"
          ],
          "name": "stdout"
        }
      ]
    },
    {
      "cell_type": "markdown",
      "metadata": {
        "id": "2XxCGTwFvmT7"
      },
      "source": [
        "**Data Preprocessing**\n",
        "> Kaggle fer2013 dataset"
      ]
    },
    {
      "cell_type": "code",
      "metadata": {
        "id": "BAMJbY7SvmUB"
      },
      "source": [
        "import pandas as pd\n",
        "import numpy as np\n",
        "import math\n",
        "import matplotlib.pyplot as plt\n",
        "import seaborn as sns"
      ],
      "execution_count": 3,
      "outputs": []
    },
    {
      "cell_type": "code",
      "metadata": {
        "id": "Ps-5DlojvmUC"
      },
      "source": [
        "# Load data\n",
        "df = pd.read_csv('/content/gdrive/My Drive/Data_For_Colab/IDS_705_Final_Project/fer2013.csv')"
      ],
      "execution_count": 4,
      "outputs": []
    },
    {
      "cell_type": "code",
      "metadata": {
        "colab": {
          "base_uri": "https://localhost:8080/",
          "height": 198
        },
        "id": "zp1bkFgNvmUC",
        "outputId": "160e46bb-e963-4fdf-c099-325d1a196b46"
      },
      "source": [
        "df.head()"
      ],
      "execution_count": 5,
      "outputs": [
        {
          "output_type": "execute_result",
          "data": {
            "text/html": [
              "<div>\n",
              "<style scoped>\n",
              "    .dataframe tbody tr th:only-of-type {\n",
              "        vertical-align: middle;\n",
              "    }\n",
              "\n",
              "    .dataframe tbody tr th {\n",
              "        vertical-align: top;\n",
              "    }\n",
              "\n",
              "    .dataframe thead th {\n",
              "        text-align: right;\n",
              "    }\n",
              "</style>\n",
              "<table border=\"1\" class=\"dataframe\">\n",
              "  <thead>\n",
              "    <tr style=\"text-align: right;\">\n",
              "      <th></th>\n",
              "      <th>emotion</th>\n",
              "      <th>pixels</th>\n",
              "      <th>Usage</th>\n",
              "    </tr>\n",
              "  </thead>\n",
              "  <tbody>\n",
              "    <tr>\n",
              "      <th>0</th>\n",
              "      <td>0</td>\n",
              "      <td>70 80 82 72 58 58 60 63 54 58 60 48 89 115 121...</td>\n",
              "      <td>Training</td>\n",
              "    </tr>\n",
              "    <tr>\n",
              "      <th>1</th>\n",
              "      <td>0</td>\n",
              "      <td>151 150 147 155 148 133 111 140 170 174 182 15...</td>\n",
              "      <td>Training</td>\n",
              "    </tr>\n",
              "    <tr>\n",
              "      <th>2</th>\n",
              "      <td>2</td>\n",
              "      <td>231 212 156 164 174 138 161 173 182 200 106 38...</td>\n",
              "      <td>Training</td>\n",
              "    </tr>\n",
              "    <tr>\n",
              "      <th>3</th>\n",
              "      <td>4</td>\n",
              "      <td>24 32 36 30 32 23 19 20 30 41 21 22 32 34 21 1...</td>\n",
              "      <td>Training</td>\n",
              "    </tr>\n",
              "    <tr>\n",
              "      <th>4</th>\n",
              "      <td>6</td>\n",
              "      <td>4 0 0 0 0 0 0 0 0 0 0 0 3 15 23 28 48 50 58 84...</td>\n",
              "      <td>Training</td>\n",
              "    </tr>\n",
              "  </tbody>\n",
              "</table>\n",
              "</div>"
            ],
            "text/plain": [
              "   emotion                                             pixels     Usage\n",
              "0        0  70 80 82 72 58 58 60 63 54 58 60 48 89 115 121...  Training\n",
              "1        0  151 150 147 155 148 133 111 140 170 174 182 15...  Training\n",
              "2        2  231 212 156 164 174 138 161 173 182 200 106 38...  Training\n",
              "3        4  24 32 36 30 32 23 19 20 30 41 21 22 32 34 21 1...  Training\n",
              "4        6  4 0 0 0 0 0 0 0 0 0 0 0 3 15 23 28 48 50 58 84...  Training"
            ]
          },
          "metadata": {
            "tags": []
          },
          "execution_count": 5
        }
      ]
    },
    {
      "cell_type": "markdown",
      "metadata": {
        "id": "9MeZYbwAvmUE"
      },
      "source": [
        "**Data Visualization**"
      ]
    },
    {
      "cell_type": "code",
      "metadata": {
        "id": "uJwlDgLavmUE"
      },
      "source": [
        "# Test-Training Split \n",
        "X_train = df[df['Usage'] == 'Training']['pixels']\n",
        "y_train = df[df['Usage'] == 'Training']['emotion']\n",
        "X_val = df[df['Usage'] == 'PrivateTest']['pixels']\n",
        "y_val = df[df['Usage'] == 'PrivateTest']['emotion']"
      ],
      "execution_count": 6,
      "outputs": []
    },
    {
      "cell_type": "code",
      "metadata": {
        "colab": {
          "base_uri": "https://localhost:8080/"
        },
        "id": "IgnCWVFhvmUE",
        "outputId": "f02bb150-e6b8-437c-c227-793acd550117"
      },
      "source": [
        "math.sqrt(len(X_train[0].split(' ')))"
      ],
      "execution_count": 7,
      "outputs": [
        {
          "output_type": "execute_result",
          "data": {
            "text/plain": [
              "48.0"
            ]
          },
          "metadata": {
            "tags": []
          },
          "execution_count": 7
        }
      ]
    },
    {
      "cell_type": "code",
      "metadata": {
        "id": "Dj6HVsA7vmUE"
      },
      "source": [
        "#getting features for training\n",
        "def reshape(data):\n",
        "    X = []\n",
        "    for xseq in data:\n",
        "        xx = [int(xp) for xp in xseq.split(' ')]\n",
        "        xx = np.asarray(xx).reshape(48, 48)\n",
        "        X.append(xx.astype('float32'))\n",
        "    X = np.asarray(X)\n",
        "    X = np.expand_dims(X, -1)\n",
        "    return X\n",
        "\n",
        "X_train = reshape(X_train)\n",
        "X_val = reshape(X_val)"
      ],
      "execution_count": 8,
      "outputs": []
    },
    {
      "cell_type": "code",
      "metadata": {
        "id": "ls1wGbI_vmUF"
      },
      "source": [
        "emotion =['anger', 'disgust', 'fear', 'happiness', 'sadness', 'surprise', 'neutral']"
      ],
      "execution_count": 37,
      "outputs": []
    },
    {
      "cell_type": "code",
      "metadata": {
        "id": "I4hCuVcwvmUF",
        "outputId": "c93cea91-921a-4524-cd26-f8d54f4739ab"
      },
      "source": [
        "pd.DataFrame(y_train).hist(bins=14)\n",
        "plt.title('Histogram of Class Distribution')\n",
        "plt.xlabel('class')\n",
        "plt.ylabel('Frequency')\n",
        "plt.show()"
      ],
      "execution_count": null,
      "outputs": [
        {
          "output_type": "display_data",
          "data": {
            "image/png": "[encoded data removed]",
            "text/plain": [
              "<Figure size 432x288 with 1 Axes>"
            ]
          },
          "metadata": {
            "tags": [],
            "needs_background": "light"
          }
        }
      ]
    },
    {
      "cell_type": "code",
      "metadata": {
        "id": "XKNVHfz7vmUF",
        "outputId": "df30f559-e0fb-4b9a-864f-02dc8bf3128c"
      },
      "source": [
        "plt.figure(figsize=(15,2))\n",
        "X = df[df['Usage'] == 'Training']['pixels']\n",
        "y = df[df['Usage'] == 'Training']['emotion']\n",
        "X = X.apply(lambda x: np.array(x.split(' ')).astype('float32'))\n",
        "\n",
        "for index, (image, label) in enumerate(zip(X[0:10], y[0:10])):\n",
        "    plt.subplot(1, 10, index + 1)\n",
        "    plt.imshow(np.reshape(image, (48,48)), cmap=plt.cm.gray)\n",
        "    plt.title(emotion[y_train[index]])"
      ],
      "execution_count": null,
      "outputs": [
        {
          "output_type": "display_data",
          "data": {
            "image/png": "[encoded data removed]",
            "text/plain": [
              "<Figure size 1080x144 with 10 Axes>"
            ]
          },
          "metadata": {
            "tags": [],
            "needs_background": "light"
          }
        }
      ]
    },
    {
      "cell_type": "code",
      "metadata": {
        "id": "N2CP8ckQvmUG"
      },
      "source": [
        "y_train = pd.get_dummies(y_train).values.astype(np.float32)\n",
        "y_val = pd.get_dummies(y_val).values.astype(np.float32)"
      ],
      "execution_count": 9,
      "outputs": []
    },
    {
      "cell_type": "code",
      "metadata": {
        "colab": {
          "base_uri": "https://localhost:8080/"
        },
        "id": "Rm7qZZ73vmUG",
        "outputId": "13604955-2713-4c87-b013-7cda8ccd6415"
      },
      "source": [
        "y_train.shape"
      ],
      "execution_count": 10,
      "outputs": [
        {
          "output_type": "execute_result",
          "data": {
            "text/plain": [
              "(28709, 7)"
            ]
          },
          "metadata": {
            "tags": []
          },
          "execution_count": 10
        }
      ]
    },
    {
      "cell_type": "markdown",
      "metadata": {
        "id": "avkYVZNWvmUG"
      },
      "source": [
        "**Model**"
      ]
    },
    {
      "cell_type": "code",
      "metadata": {
        "id": "tz9OISZP3EBl"
      },
      "source": [
        "# 10% of the training data\n",
        "X_train_1 = X_train[:1000]\n",
        "y_train_1 = y_train[:1000]\n",
        "X_val_1 = X_val[:100]\n",
        "y_val_1 = y_val[:100]"
      ],
      "execution_count": 11,
      "outputs": []
    },
    {
      "cell_type": "code",
      "metadata": {
        "id": "g2bCkONmvmUH"
      },
      "source": [
        "import tensorflow as tf\n",
        "from tensorflow.keras.models import Sequential\n",
        "from tensorflow.keras.layers import Flatten, Dense, Conv2D, MaxPooling2D\n",
        "from tensorflow.keras.layers import Dropout, BatchNormalization, LeakyReLU, Activation\n",
        "from tensorflow.keras.callbacks import Callback, EarlyStopping, ReduceLROnPlateau\n",
        "from tensorflow.keras.preprocessing.image import ImageDataGenerator\n",
        "from keras.regularizers import l2"
      ],
      "execution_count": 12,
      "outputs": []
    },
    {
      "cell_type": "markdown",
      "metadata": {
        "id": "A3QSgdf9yZ7a"
      },
      "source": [
        "ResNet50"
      ]
    },
    {
      "cell_type": "markdown",
      "metadata": {
        "id": "MfvA3MKLyiCE"
      },
      "source": [
        "Model A"
      ]
    },
    {
      "cell_type": "code",
      "metadata": {
        "id": "5sL8Tpp_vmUH"
      },
      "source": [
        "num_features = 64\n",
        "num_labels = 7\n",
        "batch_size = 64\n",
        "epochs = 100\n",
        "width, height = 48, 48"
      ],
      "execution_count": 13,
      "outputs": []
    },
    {
      "cell_type": "code",
      "metadata": {
        "id": "Or5fTS0_vmUH"
      },
      "source": [
        "# Create the model\n",
        "model = Sequential()\n",
        "\n",
        "model.add(Conv2D(num_features, kernel_size=(3, 3), activation='relu', input_shape=(width, height, 1), data_format='channels_last', kernel_regularizer=l2(0.01)))\n",
        "model.add(Conv2D(num_features, kernel_size=(3, 3), activation='relu', padding='same'))\n",
        "model.add(BatchNormalization())\n",
        "model.add(MaxPooling2D(pool_size=(2, 2), strides=(2, 2)))\n",
        "model.add(Dropout(0.5))\n",
        "\n",
        "model.add(Conv2D(2*num_features, kernel_size=(3, 3), activation='relu', padding='same'))\n",
        "model.add(BatchNormalization())\n",
        "model.add(Conv2D(2*num_features, kernel_size=(3, 3), activation='relu', padding='same'))\n",
        "model.add(BatchNormalization())\n",
        "model.add(MaxPooling2D(pool_size=(2, 2), strides=(2, 2)))\n",
        "model.add(Dropout(0.5))\n",
        "\n",
        "model.add(Conv2D(2*2*num_features, kernel_size=(3, 3), activation='relu', padding='same'))\n",
        "model.add(BatchNormalization())\n",
        "model.add(Conv2D(2*2*num_features, kernel_size=(3, 3), activation='relu', padding='same'))\n",
        "model.add(BatchNormalization())\n",
        "model.add(MaxPooling2D(pool_size=(2, 2), strides=(2, 2)))\n",
        "model.add(Dropout(0.5))\n",
        "\n",
        "model.add(Conv2D(2*2*2*num_features, kernel_size=(3, 3), activation='relu', padding='same'))\n",
        "model.add(BatchNormalization())\n",
        "model.add(Conv2D(2*2*2*num_features, kernel_size=(3, 3), activation='relu', padding='same'))\n",
        "model.add(BatchNormalization())\n",
        "model.add(MaxPooling2D(pool_size=(2, 2), strides=(2, 2)))\n",
        "model.add(Dropout(0.5))\n",
        "\n",
        "model.add(Flatten())\n",
        "\n",
        "model.add(Dense(2*2*2*num_features, activation='relu'))\n",
        "model.add(Dropout(0.4))\n",
        "model.add(Dense(2*2*num_features, activation='relu'))\n",
        "model.add(Dropout(0.4))\n",
        "model.add(Dense(2*num_features, activation='relu'))\n",
        "model.add(Dropout(0.5))\n",
        "\n",
        "model.add(Dense(num_labels, activation='softmax'))"
      ],
      "execution_count": 14,
      "outputs": []
    },
    {
      "cell_type": "code",
      "metadata": {
        "colab": {
          "base_uri": "https://localhost:8080/"
        },
        "id": "ChocnCRqvmUI",
        "outputId": "aac915a9-1b60-4325-ccc3-527126b64f5d"
      },
      "source": [
        "model.summary()"
      ],
      "execution_count": 15,
      "outputs": [
        {
          "output_type": "stream",
          "text": [
            "Model: \"sequential\"\n",
            "_________________________________________________________________\n",
            "Layer (type)                 Output Shape              Param #   \n",
            "=================================================================\n",
            "conv2d (Conv2D)              (None, 46, 46, 64)        640       \n",
            "_________________________________________________________________\n",
            "conv2d_1 (Conv2D)            (None, 46, 46, 64)        36928     \n",
            "_________________________________________________________________\n",
            "batch_normalization (BatchNo (None, 46, 46, 64)        256       \n",
            "_________________________________________________________________\n",
            "max_pooling2d (MaxPooling2D) (None, 23, 23, 64)        0         \n",
            "_________________________________________________________________\n",
            "dropout (Dropout)            (None, 23, 23, 64)        0         \n",
            "_________________________________________________________________\n",
            "conv2d_2 (Conv2D)            (None, 23, 23, 128)       73856     \n",
            "_________________________________________________________________\n",
            "batch_normalization_1 (Batch (None, 23, 23, 128)       512       \n",
            "_________________________________________________________________\n",
            "conv2d_3 (Conv2D)            (None, 23, 23, 128)       147584    \n",
            "_________________________________________________________________\n",
            "batch_normalization_2 (Batch (None, 23, 23, 128)       512       \n",
            "_________________________________________________________________\n",
            "max_pooling2d_1 (MaxPooling2 (None, 11, 11, 128)       0         \n",
            "_________________________________________________________________\n",
            "dropout_1 (Dropout)          (None, 11, 11, 128)       0         \n",
            "_________________________________________________________________\n",
            "conv2d_4 (Conv2D)            (None, 11, 11, 256)       295168    \n",
            "_________________________________________________________________\n",
            "batch_normalization_3 (Batch (None, 11, 11, 256)       1024      \n",
            "_________________________________________________________________\n",
            "conv2d_5 (Conv2D)            (None, 11, 11, 256)       590080    \n",
            "_________________________________________________________________\n",
            "batch_normalization_4 (Batch (None, 11, 11, 256)       1024      \n",
            "_________________________________________________________________\n",
            "max_pooling2d_2 (MaxPooling2 (None, 5, 5, 256)         0         \n",
            "_________________________________________________________________\n",
            "dropout_2 (Dropout)          (None, 5, 5, 256)         0         \n",
            "_________________________________________________________________\n",
            "conv2d_6 (Conv2D)            (None, 5, 5, 512)         1180160   \n",
            "_________________________________________________________________\n",
            "batch_normalization_5 (Batch (None, 5, 5, 512)         2048      \n",
            "_________________________________________________________________\n",
            "conv2d_7 (Conv2D)            (None, 5, 5, 512)         2359808   \n",
            "_________________________________________________________________\n",
            "batch_normalization_6 (Batch (None, 5, 5, 512)         2048      \n",
            "_________________________________________________________________\n",
            "max_pooling2d_3 (MaxPooling2 (None, 2, 2, 512)         0         \n",
            "_________________________________________________________________\n",
            "dropout_3 (Dropout)          (None, 2, 2, 512)         0         \n",
            "_________________________________________________________________\n",
            "flatten (Flatten)            (None, 2048)              0         \n",
            "_________________________________________________________________\n",
            "dense (Dense)                (None, 512)               1049088   \n",
            "_________________________________________________________________\n",
            "dropout_4 (Dropout)          (None, 512)               0         \n",
            "_________________________________________________________________\n",
            "dense_1 (Dense)              (None, 256)               131328    \n",
            "_________________________________________________________________\n",
            "dropout_5 (Dropout)          (None, 256)               0         \n",
            "_________________________________________________________________\n",
            "dense_2 (Dense)              (None, 128)               32896     \n",
            "_________________________________________________________________\n",
            "dropout_6 (Dropout)          (None, 128)               0         \n",
            "_________________________________________________________________\n",
            "dense_3 (Dense)              (None, 7)                 903       \n",
            "=================================================================\n",
            "Total params: 5,905,863\n",
            "Trainable params: 5,902,151\n",
            "Non-trainable params: 3,712\n",
            "_________________________________________________________________\n"
          ],
          "name": "stdout"
        }
      ]
    },
    {
      "cell_type": "code",
      "metadata": {
        "id": "_WV8m-_TvmUI"
      },
      "source": [
        "# compile the model\n",
        "\n",
        "model.compile(\n",
        "    loss = 'categorical_crossentropy',\n",
        "    optimizer = 'adam',\n",
        "    metrics = ['accuracy']\n",
        ")"
      ],
      "execution_count": 16,
      "outputs": []
    },
    {
      "cell_type": "code",
      "metadata": {
        "colab": {
          "base_uri": "https://localhost:8080/"
        },
        "id": "N-NCBLSXvmUI",
        "outputId": "4360a704-1d98-4319-e862-e2a3457d5144"
      },
      "source": [
        "# Train the model\n",
        "\n",
        "#training the model\n",
        "model.fit(np.array(X_train_1), np.array(y_train_1),\n",
        "          batch_size=batch_size,\n",
        "          epochs=epochs,\n",
        "          verbose=1,\n",
        "          validation_data= (X_val, y_val))"
      ],
      "execution_count": 17,
      "outputs": [
        {
          "output_type": "stream",
          "text": [
            "Epoch 1/100\n",
            "16/16 [==============================] - 109s 7s/step - loss: 4.5266 - accuracy: 0.1607 - val_loss: 9.7540 - val_accuracy: 0.1471\n",
            "Epoch 2/100\n",
            "16/16 [==============================] - 107s 7s/step - loss: 2.5523 - accuracy: 0.1721 - val_loss: 17.8602 - val_accuracy: 0.1627\n",
            "Epoch 3/100\n",
            "16/16 [==============================] - 111s 7s/step - loss: 2.2784 - accuracy: 0.1937 - val_loss: 4.5785 - val_accuracy: 0.1376\n",
            "Epoch 4/100\n",
            "16/16 [==============================] - 108s 7s/step - loss: 2.1773 - accuracy: 0.1574 - val_loss: 2.6058 - val_accuracy: 0.1716\n",
            "Epoch 5/100\n",
            "16/16 [==============================] - 106s 7s/step - loss: 2.0042 - accuracy: 0.1892 - val_loss: 3.4367 - val_accuracy: 0.2430\n",
            "Epoch 6/100\n",
            "16/16 [==============================] - 106s 7s/step - loss: 2.0524 - accuracy: 0.2101 - val_loss: 1.9972 - val_accuracy: 0.1655\n",
            "Epoch 7/100\n",
            "16/16 [==============================] - 106s 7s/step - loss: 1.9774 - accuracy: 0.1811 - val_loss: 1.9767 - val_accuracy: 0.1733\n",
            "Epoch 8/100\n",
            "16/16 [==============================] - 106s 7s/step - loss: 2.0283 - accuracy: 0.1629 - val_loss: 1.9619 - val_accuracy: 0.1842\n",
            "Epoch 9/100\n",
            "16/16 [==============================] - 104s 7s/step - loss: 1.9622 - accuracy: 0.2022 - val_loss: 1.8885 - val_accuracy: 0.2168\n",
            "Epoch 10/100\n",
            "16/16 [==============================] - 105s 7s/step - loss: 1.9424 - accuracy: 0.1896 - val_loss: 1.8791 - val_accuracy: 0.2173\n",
            "Epoch 11/100\n",
            "16/16 [==============================] - 107s 7s/step - loss: 1.9439 - accuracy: 0.1985 - val_loss: 1.8708 - val_accuracy: 0.2293\n",
            "Epoch 12/100\n",
            "16/16 [==============================] - 108s 7s/step - loss: 1.9680 - accuracy: 0.1633 - val_loss: 1.8705 - val_accuracy: 0.2223\n",
            "Epoch 13/100\n",
            "16/16 [==============================] - 105s 7s/step - loss: 1.9060 - accuracy: 0.1863 - val_loss: 1.8702 - val_accuracy: 0.2095\n",
            "Epoch 14/100\n",
            "16/16 [==============================] - 103s 7s/step - loss: 1.9109 - accuracy: 0.1789 - val_loss: 1.8575 - val_accuracy: 0.2173\n",
            "Epoch 15/100\n",
            "16/16 [==============================] - 103s 7s/step - loss: 1.9218 - accuracy: 0.1840 - val_loss: 1.8555 - val_accuracy: 0.2056\n",
            "Epoch 16/100\n",
            "16/16 [==============================] - 104s 7s/step - loss: 1.8549 - accuracy: 0.2259 - val_loss: 1.8552 - val_accuracy: 0.2318\n",
            "Epoch 17/100\n",
            "16/16 [==============================] - 104s 7s/step - loss: 1.8951 - accuracy: 0.1892 - val_loss: 1.8547 - val_accuracy: 0.2265\n",
            "Epoch 18/100\n",
            "16/16 [==============================] - 105s 7s/step - loss: 1.9376 - accuracy: 0.2076 - val_loss: 1.8495 - val_accuracy: 0.2449\n",
            "Epoch 19/100\n",
            "16/16 [==============================] - 106s 7s/step - loss: 1.9034 - accuracy: 0.2021 - val_loss: 1.8424 - val_accuracy: 0.2276\n",
            "Epoch 20/100\n",
            "16/16 [==============================] - 106s 7s/step - loss: 1.9001 - accuracy: 0.2020 - val_loss: 1.8497 - val_accuracy: 0.2198\n",
            "Epoch 21/100\n",
            "16/16 [==============================] - 107s 7s/step - loss: 1.8915 - accuracy: 0.1923 - val_loss: 1.8505 - val_accuracy: 0.2363\n",
            "Epoch 22/100\n",
            "16/16 [==============================] - 107s 7s/step - loss: 1.8701 - accuracy: 0.1881 - val_loss: 1.8396 - val_accuracy: 0.2221\n",
            "Epoch 23/100\n",
            "16/16 [==============================] - 106s 7s/step - loss: 1.8764 - accuracy: 0.2057 - val_loss: 1.8382 - val_accuracy: 0.2340\n",
            "Epoch 24/100\n",
            "16/16 [==============================] - 107s 7s/step - loss: 1.8781 - accuracy: 0.2015 - val_loss: 1.8434 - val_accuracy: 0.2285\n",
            "Epoch 25/100\n",
            "16/16 [==============================] - 108s 7s/step - loss: 1.8668 - accuracy: 0.1874 - val_loss: 1.8420 - val_accuracy: 0.2282\n",
            "Epoch 26/100\n",
            "16/16 [==============================] - 107s 7s/step - loss: 1.8871 - accuracy: 0.1880 - val_loss: 1.8336 - val_accuracy: 0.2268\n",
            "Epoch 27/100\n",
            "16/16 [==============================] - 107s 7s/step - loss: 1.8392 - accuracy: 0.2054 - val_loss: 1.8360 - val_accuracy: 0.2419\n",
            "Epoch 28/100\n",
            "16/16 [==============================] - 106s 7s/step - loss: 1.8578 - accuracy: 0.2026 - val_loss: 1.8410 - val_accuracy: 0.2469\n",
            "Epoch 29/100\n",
            "16/16 [==============================] - 104s 7s/step - loss: 1.8399 - accuracy: 0.2116 - val_loss: 1.8391 - val_accuracy: 0.2187\n",
            "Epoch 30/100\n",
            "16/16 [==============================] - 105s 7s/step - loss: 1.8412 - accuracy: 0.2114 - val_loss: 1.8391 - val_accuracy: 0.2126\n",
            "Epoch 31/100\n",
            "16/16 [==============================] - 106s 7s/step - loss: 1.8549 - accuracy: 0.2130 - val_loss: 1.8456 - val_accuracy: 0.2003\n",
            "Epoch 32/100\n",
            "16/16 [==============================] - 106s 7s/step - loss: 1.8637 - accuracy: 0.2137 - val_loss: 1.8457 - val_accuracy: 0.2293\n",
            "Epoch 33/100\n",
            "16/16 [==============================] - 106s 7s/step - loss: 1.8648 - accuracy: 0.1975 - val_loss: 1.8358 - val_accuracy: 0.2388\n",
            "Epoch 34/100\n",
            "16/16 [==============================] - 106s 7s/step - loss: 1.8310 - accuracy: 0.2445 - val_loss: 1.8376 - val_accuracy: 0.2168\n",
            "Epoch 35/100\n",
            "16/16 [==============================] - 108s 7s/step - loss: 1.8198 - accuracy: 0.2366 - val_loss: 1.8329 - val_accuracy: 0.2441\n",
            "Epoch 36/100\n",
            "16/16 [==============================] - 107s 7s/step - loss: 1.8253 - accuracy: 0.2135 - val_loss: 1.8411 - val_accuracy: 0.2444\n",
            "Epoch 37/100\n",
            "16/16 [==============================] - 106s 7s/step - loss: 1.8254 - accuracy: 0.2163 - val_loss: 1.8390 - val_accuracy: 0.2499\n",
            "Epoch 38/100\n",
            "16/16 [==============================] - 104s 7s/step - loss: 1.8305 - accuracy: 0.2299 - val_loss: 1.8303 - val_accuracy: 0.2371\n",
            "Epoch 39/100\n",
            "16/16 [==============================] - 105s 7s/step - loss: 1.8429 - accuracy: 0.2235 - val_loss: 1.8327 - val_accuracy: 0.2449\n",
            "Epoch 40/100\n",
            "16/16 [==============================] - 105s 7s/step - loss: 1.8419 - accuracy: 0.2054 - val_loss: 1.8506 - val_accuracy: 0.2435\n",
            "Epoch 41/100\n",
            "16/16 [==============================] - 107s 7s/step - loss: 1.8513 - accuracy: 0.2121 - val_loss: 1.8383 - val_accuracy: 0.2226\n",
            "Epoch 42/100\n",
            "16/16 [==============================] - 108s 7s/step - loss: 1.8564 - accuracy: 0.2065 - val_loss: 1.8295 - val_accuracy: 0.2427\n",
            "Epoch 43/100\n",
            "16/16 [==============================] - 107s 7s/step - loss: 1.8221 - accuracy: 0.2358 - val_loss: 1.8292 - val_accuracy: 0.2432\n",
            "Epoch 44/100\n",
            "16/16 [==============================] - 107s 7s/step - loss: 1.8257 - accuracy: 0.2422 - val_loss: 1.8304 - val_accuracy: 0.2455\n",
            "Epoch 45/100\n",
            "16/16 [==============================] - 106s 7s/step - loss: 1.8279 - accuracy: 0.2413 - val_loss: 1.8376 - val_accuracy: 0.2444\n",
            "Epoch 46/100\n",
            "16/16 [==============================] - 107s 7s/step - loss: 1.8253 - accuracy: 0.2561 - val_loss: 1.8351 - val_accuracy: 0.2474\n",
            "Epoch 47/100\n",
            "16/16 [==============================] - 107s 7s/step - loss: 1.8392 - accuracy: 0.2234 - val_loss: 1.8282 - val_accuracy: 0.2466\n",
            "Epoch 48/100\n",
            "16/16 [==============================] - 106s 7s/step - loss: 1.8102 - accuracy: 0.2352 - val_loss: 1.8211 - val_accuracy: 0.2572\n",
            "Epoch 49/100\n",
            "16/16 [==============================] - 104s 7s/step - loss: 1.8016 - accuracy: 0.2529 - val_loss: 1.8195 - val_accuracy: 0.2563\n",
            "Epoch 50/100\n",
            "16/16 [==============================] - 104s 7s/step - loss: 1.8160 - accuracy: 0.2344 - val_loss: 1.8162 - val_accuracy: 0.2625\n",
            "Epoch 51/100\n",
            "16/16 [==============================] - 104s 7s/step - loss: 1.7857 - accuracy: 0.2474 - val_loss: 1.8367 - val_accuracy: 0.2430\n",
            "Epoch 52/100\n",
            "16/16 [==============================] - 104s 7s/step - loss: 1.8117 - accuracy: 0.2267 - val_loss: 1.8274 - val_accuracy: 0.2393\n",
            "Epoch 53/100\n",
            "16/16 [==============================] - 104s 7s/step - loss: 1.7934 - accuracy: 0.2494 - val_loss: 1.8307 - val_accuracy: 0.2541\n",
            "Epoch 54/100\n",
            "16/16 [==============================] - 106s 7s/step - loss: 1.8157 - accuracy: 0.2538 - val_loss: 1.8359 - val_accuracy: 0.2485\n",
            "Epoch 55/100\n",
            "16/16 [==============================] - 107s 7s/step - loss: 1.7965 - accuracy: 0.2459 - val_loss: 1.8148 - val_accuracy: 0.2460\n",
            "Epoch 56/100\n",
            "16/16 [==============================] - 108s 7s/step - loss: 1.7814 - accuracy: 0.2558 - val_loss: 1.8254 - val_accuracy: 0.2410\n",
            "Epoch 57/100\n",
            "16/16 [==============================] - 107s 7s/step - loss: 1.8233 - accuracy: 0.1926 - val_loss: 1.8225 - val_accuracy: 0.2594\n",
            "Epoch 58/100\n",
            "16/16 [==============================] - 107s 7s/step - loss: 1.8283 - accuracy: 0.2363 - val_loss: 1.8376 - val_accuracy: 0.2419\n",
            "Epoch 59/100\n",
            "16/16 [==============================] - 108s 7s/step - loss: 1.7728 - accuracy: 0.2549 - val_loss: 1.8136 - val_accuracy: 0.2636\n",
            "Epoch 60/100\n",
            "16/16 [==============================] - 108s 7s/step - loss: 1.7735 - accuracy: 0.2632 - val_loss: 1.8036 - val_accuracy: 0.2756\n",
            "Epoch 61/100\n",
            "16/16 [==============================] - 108s 7s/step - loss: 1.7694 - accuracy: 0.2905 - val_loss: 1.8115 - val_accuracy: 0.2611\n",
            "Epoch 62/100\n",
            "16/16 [==============================] - 108s 7s/step - loss: 1.7511 - accuracy: 0.2634 - val_loss: 1.8295 - val_accuracy: 0.2505\n",
            "Epoch 63/100\n",
            "16/16 [==============================] - 106s 7s/step - loss: 1.7680 - accuracy: 0.2641 - val_loss: 1.8468 - val_accuracy: 0.2480\n",
            "Epoch 64/100\n",
            "16/16 [==============================] - 108s 7s/step - loss: 1.7362 - accuracy: 0.2627 - val_loss: 1.8411 - val_accuracy: 0.2455\n",
            "Epoch 65/100\n",
            "16/16 [==============================] - 108s 7s/step - loss: 1.7224 - accuracy: 0.2841 - val_loss: 1.8118 - val_accuracy: 0.2739\n",
            "Epoch 66/100\n",
            "16/16 [==============================] - 106s 7s/step - loss: 1.7216 - accuracy: 0.2625 - val_loss: 1.9210 - val_accuracy: 0.2575\n",
            "Epoch 67/100\n",
            "16/16 [==============================] - 105s 7s/step - loss: 1.7294 - accuracy: 0.2506 - val_loss: 1.8143 - val_accuracy: 0.2600\n",
            "Epoch 68/100\n",
            "16/16 [==============================] - 105s 7s/step - loss: 1.7206 - accuracy: 0.2991 - val_loss: 1.9661 - val_accuracy: 0.2530\n",
            "Epoch 69/100\n",
            "16/16 [==============================] - 107s 7s/step - loss: 1.7272 - accuracy: 0.2606 - val_loss: 2.0417 - val_accuracy: 0.1989\n",
            "Epoch 70/100\n",
            "16/16 [==============================] - 107s 7s/step - loss: 1.7270 - accuracy: 0.2542 - val_loss: 1.8475 - val_accuracy: 0.2864\n",
            "Epoch 71/100\n",
            "16/16 [==============================] - 107s 7s/step - loss: 1.7176 - accuracy: 0.3083 - val_loss: 1.8061 - val_accuracy: 0.2784\n",
            "Epoch 72/100\n",
            "16/16 [==============================] - 106s 7s/step - loss: 1.6999 - accuracy: 0.3069 - val_loss: 1.8090 - val_accuracy: 0.2630\n",
            "Epoch 73/100\n",
            "16/16 [==============================] - 107s 7s/step - loss: 1.6597 - accuracy: 0.3038 - val_loss: 1.7862 - val_accuracy: 0.2795\n",
            "Epoch 74/100\n",
            "16/16 [==============================] - 105s 7s/step - loss: 1.6737 - accuracy: 0.3084 - val_loss: 2.0353 - val_accuracy: 0.2410\n",
            "Epoch 75/100\n",
            "16/16 [==============================] - 106s 7s/step - loss: 1.7204 - accuracy: 0.2718 - val_loss: 2.2125 - val_accuracy: 0.2243\n",
            "Epoch 76/100\n",
            "16/16 [==============================] - 107s 7s/step - loss: 1.6629 - accuracy: 0.3161 - val_loss: 1.8381 - val_accuracy: 0.2530\n",
            "Epoch 77/100\n",
            "16/16 [==============================] - 107s 7s/step - loss: 1.6385 - accuracy: 0.3149 - val_loss: 1.8211 - val_accuracy: 0.2767\n",
            "Epoch 78/100\n",
            "16/16 [==============================] - 108s 7s/step - loss: 1.7052 - accuracy: 0.2717 - val_loss: 1.8872 - val_accuracy: 0.2850\n",
            "Epoch 79/100\n",
            "16/16 [==============================] - 108s 7s/step - loss: 1.6753 - accuracy: 0.2891 - val_loss: 1.7983 - val_accuracy: 0.2881\n",
            "Epoch 80/100\n",
            "16/16 [==============================] - 108s 7s/step - loss: 1.6586 - accuracy: 0.2962 - val_loss: 1.8071 - val_accuracy: 0.2502\n",
            "Epoch 81/100\n",
            "16/16 [==============================] - 108s 7s/step - loss: 1.6423 - accuracy: 0.3035 - val_loss: 1.7749 - val_accuracy: 0.2875\n",
            "Epoch 82/100\n",
            "16/16 [==============================] - 108s 7s/step - loss: 1.6252 - accuracy: 0.3174 - val_loss: 1.7914 - val_accuracy: 0.2744\n",
            "Epoch 83/100\n",
            "16/16 [==============================] - 108s 7s/step - loss: 1.6794 - accuracy: 0.2948 - val_loss: 1.8500 - val_accuracy: 0.2722\n",
            "Epoch 84/100\n",
            "16/16 [==============================] - 107s 7s/step - loss: 1.6556 - accuracy: 0.3332 - val_loss: 1.8717 - val_accuracy: 0.2920\n",
            "Epoch 85/100\n",
            "16/16 [==============================] - 107s 7s/step - loss: 1.6036 - accuracy: 0.3107 - val_loss: 1.7932 - val_accuracy: 0.2770\n",
            "Epoch 86/100\n",
            "16/16 [==============================] - 107s 7s/step - loss: 1.6154 - accuracy: 0.3124 - val_loss: 1.8060 - val_accuracy: 0.2683\n",
            "Epoch 87/100\n",
            "16/16 [==============================] - 108s 7s/step - loss: 1.5723 - accuracy: 0.3590 - val_loss: 1.8456 - val_accuracy: 0.2533\n",
            "Epoch 88/100\n",
            "16/16 [==============================] - 109s 7s/step - loss: 1.5555 - accuracy: 0.3458 - val_loss: 1.8963 - val_accuracy: 0.2719\n",
            "Epoch 89/100\n",
            "16/16 [==============================] - 108s 7s/step - loss: 1.5737 - accuracy: 0.3434 - val_loss: 2.1857 - val_accuracy: 0.2271\n",
            "Epoch 90/100\n",
            "16/16 [==============================] - 108s 7s/step - loss: 1.5473 - accuracy: 0.3586 - val_loss: 1.8573 - val_accuracy: 0.2912\n",
            "Epoch 91/100\n",
            "16/16 [==============================] - 108s 7s/step - loss: 1.5782 - accuracy: 0.3437 - val_loss: 2.0591 - val_accuracy: 0.2728\n",
            "Epoch 92/100\n",
            "16/16 [==============================] - 108s 7s/step - loss: 1.5825 - accuracy: 0.3730 - val_loss: 1.9328 - val_accuracy: 0.2778\n",
            "Epoch 93/100\n",
            "16/16 [==============================] - 108s 7s/step - loss: 1.5347 - accuracy: 0.3515 - val_loss: 1.8374 - val_accuracy: 0.2979\n",
            "Epoch 94/100\n",
            "16/16 [==============================] - 108s 7s/step - loss: 1.4968 - accuracy: 0.3621 - val_loss: 1.9018 - val_accuracy: 0.3004\n",
            "Epoch 95/100\n",
            "16/16 [==============================] - 108s 7s/step - loss: 1.5779 - accuracy: 0.3529 - val_loss: 1.8207 - val_accuracy: 0.2945\n",
            "Epoch 96/100\n",
            "16/16 [==============================] - 109s 7s/step - loss: 1.4999 - accuracy: 0.3879 - val_loss: 1.8821 - val_accuracy: 0.3151\n",
            "Epoch 97/100\n",
            "16/16 [==============================] - 108s 7s/step - loss: 1.4597 - accuracy: 0.4026 - val_loss: 1.8105 - val_accuracy: 0.3020\n",
            "Epoch 98/100\n",
            "16/16 [==============================] - 109s 7s/step - loss: 1.4741 - accuracy: 0.3954 - val_loss: 1.8396 - val_accuracy: 0.2940\n",
            "Epoch 99/100\n",
            "16/16 [==============================] - 109s 7s/step - loss: 1.5274 - accuracy: 0.3722 - val_loss: 1.8582 - val_accuracy: 0.2669\n",
            "Epoch 100/100\n",
            "16/16 [==============================] - 108s 7s/step - loss: 1.4631 - accuracy: 0.4053 - val_loss: 2.0447 - val_accuracy: 0.2519\n"
          ],
          "name": "stdout"
        },
        {
          "output_type": "execute_result",
          "data": {
            "text/plain": [
              "<tensorflow.python.keras.callbacks.History at 0x7fecfcf65a90>"
            ]
          },
          "metadata": {
            "tags": []
          },
          "execution_count": 17
        }
      ]
    },
    {
      "cell_type": "code",
      "metadata": {
        "id": "fBSdkcBvvmUJ"
      },
      "source": [
        "#saving the model\n",
        "model_yaml = model.to_yaml()\n",
        "with open(\"modelA_1.yaml\", \"w\") as yaml_file:\n",
        "    yaml_file.write(model_yaml)\n",
        "    \n",
        "model.save(\"modelA_1 .h5\")"
      ],
      "execution_count": 20,
      "outputs": []
    },
    {
      "cell_type": "code",
      "metadata": {
        "colab": {
          "base_uri": "https://localhost:8080/"
        },
        "id": "DkkBHBzN5iI9",
        "outputId": "5dfa947a-0d79-4330-a344-eb87a2fb3544"
      },
      "source": [
        "from sklearn.metrics import classification_report, confusion_matrix\n",
        "from matplotlib import pyplot\n",
        "\n",
        "predictions = model.predict(X_val)\n",
        "print(classification_report(np.argmax(y_val, axis=1), np.argmax(predictions, axis=1)))"
      ],
      "execution_count": 22,
      "outputs": [
        {
          "output_type": "stream",
          "text": [
            "              precision    recall  f1-score   support\n",
            "\n",
            "           0       0.11      0.00      0.01       491\n",
            "           1       0.00      0.00      0.00        55\n",
            "           2       0.16      0.19      0.17       528\n",
            "           3       0.41      0.24      0.30       879\n",
            "           4       0.19      0.09      0.12       594\n",
            "           5       0.31      0.65      0.42       416\n",
            "           6       0.21      0.43      0.28       626\n",
            "\n",
            "    accuracy                           0.25      3589\n",
            "   macro avg       0.20      0.23      0.19      3589\n",
            "weighted avg       0.24      0.25      0.22      3589\n",
            "\n"
          ],
          "name": "stdout"
        },
        {
          "output_type": "stream",
          "text": [
            "/usr/local/lib/python3.7/dist-packages/sklearn/metrics/_classification.py:1272: UndefinedMetricWarning: Precision and F-score are ill-defined and being set to 0.0 in labels with no predicted samples. Use `zero_division` parameter to control this behavior.\n",
            "  _warn_prf(average, modifier, msg_start, len(result))\n"
          ],
          "name": "stderr"
        }
      ]
    },
    {
      "cell_type": "code",
      "metadata": {
        "colab": {
          "base_uri": "https://localhost:8080/",
          "height": 609
        },
        "id": "32qOj2zJvmUJ",
        "outputId": "d39e232f-c9cb-4aa8-eef1-65127cc5b238"
      },
      "source": [
        "plt.figure(figsize = (10,10))\n",
        "sns.heatmap(confusion_matrix(np.argmax(y_val, axis=1), np.argmax(predictions, axis=1)),\n",
        "            xticklabels = emotion,\n",
        "            yticklabels = emotion,\n",
        "            annot = True\n",
        ")\n"
      ],
      "execution_count": 38,
      "outputs": [
        {
          "output_type": "execute_result",
          "data": {
            "text/plain": [
              "<matplotlib.axes._subplots.AxesSubplot at 0x7fecf7b0c690>"
            ]
          },
          "metadata": {
            "tags": []
          },
          "execution_count": 38
        },
        {
          "output_type": "display_data",
          "data": {
            "image/png": "[encoded data removed]",
            "text/plain": [
              "<Figure size 720x720 with 2 Axes>"
            ]
          },
          "metadata": {
            "tags": [],
            "needs_background": "light"
          }
        }
      ]
    },
    {
      "cell_type": "code",
      "metadata": {
        "id": "QeWHdZ-FvmUJ"
      },
      "source": [
        ""
      ],
      "execution_count": null,
      "outputs": []
    }
  ]
}