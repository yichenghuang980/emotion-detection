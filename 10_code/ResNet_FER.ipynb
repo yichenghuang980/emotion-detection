{
  "nbformat": 4,
  "nbformat_minor": 0,
  "metadata": {
    "colab": {
      "name": "ResNet_FER.ipynb",
      "provenance": [],
      "collapsed_sections": [],
      "machine_shape": "hm"
    },
    "kernelspec": {
      "name": "python3",
      "display_name": "Python 3"
    },
    "language_info": {
      "name": "python"
    },
    "accelerator": "GPU"
  },
  "cells": [
    {
      "cell_type": "code",
      "metadata": {
        "colab": {
          "base_uri": "https://localhost:8080/"
        },
        "id": "l1szCEg6C_KJ",
        "outputId": "939adbbd-b758-47bf-a2f1-47feaa305d08"
      },
      "source": [
        "from google.colab import drive\n",
        "drive.mount(\"/content/gdrive\")"
      ],
      "execution_count": null,
      "outputs": [
        {
          "output_type": "stream",
          "text": [
            "Mounted at /content/gdrive\n"
          ],
          "name": "stdout"
        }
      ]
    },
    {
      "cell_type": "code",
      "metadata": {
        "colab": {
          "base_uri": "https://localhost:8080/"
        },
        "id": "QuOX4BQ1eN-E",
        "outputId": "0b2f639d-4b6f-47b3-c267-b97d284e8fda"
      },
      "source": [
        "%tensorflow_version 1.x\n",
        "!pip install keras-vggface\n",
        "!pip install scikit-image\n",
        "!pip install pydot"
      ],
      "execution_count": null,
      "outputs": [
        {
          "output_type": "stream",
          "text": [
            "TensorFlow 1.x selected.\n",
            "Collecting keras-vggface\n",
            "  Downloading https://files.pythonhosted.org/packages/2f/7d/5f0319ebdc09ac1a2272364fa9583f5067b6f8aff93fbbf8835d81cbaad7/keras_vggface-0.6-py3-none-any.whl\n",
            "Requirement already satisfied: pillow in /usr/local/lib/python3.7/dist-packages (from keras-vggface) (7.1.2)\n",
            "Requirement already satisfied: numpy>=1.9.1 in /usr/local/lib/python3.7/dist-packages (from keras-vggface) (1.19.5)\n",
            "Requirement already satisfied: scipy>=0.14 in /usr/local/lib/python3.7/dist-packages (from keras-vggface) (1.4.1)\n",
            "Requirement already satisfied: pyyaml in /usr/local/lib/python3.7/dist-packages (from keras-vggface) (3.13)\n",
            "Requirement already satisfied: six>=1.9.0 in /usr/local/lib/python3.7/dist-packages (from keras-vggface) (1.15.0)\n",
            "Requirement already satisfied: h5py in /usr/local/lib/python3.7/dist-packages (from keras-vggface) (2.10.0)\n",
            "Requirement already satisfied: keras in /tensorflow-1.15.2/python3.7 (from keras-vggface) (2.3.1)\n",
            "Requirement already satisfied: keras-preprocessing>=1.0.5 in /usr/local/lib/python3.7/dist-packages (from keras->keras-vggface) (1.1.2)\n",
            "Requirement already satisfied: keras-applications>=1.0.6 in /tensorflow-1.15.2/python3.7 (from keras->keras-vggface) (1.0.8)\n",
            "Installing collected packages: keras-vggface\n",
            "Successfully installed keras-vggface-0.6\n",
            "Requirement already satisfied: scikit-image in /usr/local/lib/python3.7/dist-packages (0.16.2)\n",
            "Requirement already satisfied: PyWavelets>=0.4.0 in /usr/local/lib/python3.7/dist-packages (from scikit-image) (1.1.1)\n",
            "Requirement already satisfied: scipy>=0.19.0 in /usr/local/lib/python3.7/dist-packages (from scikit-image) (1.4.1)\n",
            "Requirement already satisfied: networkx>=2.0 in /usr/local/lib/python3.7/dist-packages (from scikit-image) (2.5.1)\n",
            "Requirement already satisfied: matplotlib!=3.0.0,>=2.0.0 in /usr/local/lib/python3.7/dist-packages (from scikit-image) (3.2.2)\n",
            "Requirement already satisfied: pillow>=4.3.0 in /usr/local/lib/python3.7/dist-packages (from scikit-image) (7.1.2)\n",
            "Requirement already satisfied: imageio>=2.3.0 in /usr/local/lib/python3.7/dist-packages (from scikit-image) (2.4.1)\n",
            "Requirement already satisfied: numpy>=1.13.3 in /usr/local/lib/python3.7/dist-packages (from PyWavelets>=0.4.0->scikit-image) (1.19.5)\n",
            "Requirement already satisfied: decorator<5,>=4.3 in /usr/local/lib/python3.7/dist-packages (from networkx>=2.0->scikit-image) (4.4.2)\n",
            "Requirement already satisfied: kiwisolver>=1.0.1 in /usr/local/lib/python3.7/dist-packages (from matplotlib!=3.0.0,>=2.0.0->scikit-image) (1.3.1)\n",
            "Requirement already satisfied: python-dateutil>=2.1 in /usr/local/lib/python3.7/dist-packages (from matplotlib!=3.0.0,>=2.0.0->scikit-image) (2.8.1)\n",
            "Requirement already satisfied: cycler>=0.10 in /usr/local/lib/python3.7/dist-packages (from matplotlib!=3.0.0,>=2.0.0->scikit-image) (0.10.0)\n",
            "Requirement already satisfied: pyparsing!=2.0.4,!=2.1.2,!=2.1.6,>=2.0.1 in /usr/local/lib/python3.7/dist-packages (from matplotlib!=3.0.0,>=2.0.0->scikit-image) (2.4.7)\n",
            "Requirement already satisfied: six>=1.5 in /usr/local/lib/python3.7/dist-packages (from python-dateutil>=2.1->matplotlib!=3.0.0,>=2.0.0->scikit-image) (1.15.0)\n",
            "Requirement already satisfied: pydot in /usr/local/lib/python3.7/dist-packages (1.3.0)\n",
            "Requirement already satisfied: pyparsing>=2.1.4 in /usr/local/lib/python3.7/dist-packages (from pydot) (2.4.7)\n"
          ],
          "name": "stdout"
        }
      ]
    },
    {
      "cell_type": "code",
      "metadata": {
        "colab": {
          "base_uri": "https://localhost:8080/"
        },
        "id": "57mJclKGem81",
        "outputId": "a3832ea4-0e45-4083-8751-2b1507d970b0"
      },
      "source": [
        "import matplotlib.pyplot as plt\n",
        "import pandas as pd\n",
        "import numpy as np\n",
        "\n",
        "import tensorflow as tf\n",
        "from tensorflow.keras.layers import *\n",
        "from tensorflow.python.lib.io import file_io\n",
        "\n",
        "%matplotlib inline\n",
        "\n",
        "import keras\n",
        "from keras import backend as K\n",
        "from keras.callbacks import ModelCheckpoint, EarlyStopping\n",
        "from keras.models import load_model\n",
        "from keras.preprocessing.image import ImageDataGenerator\n",
        "from keras_vggface.vggface import VGGFace\n",
        "from keras.utils import plot_model\n",
        "from sklearn.metrics import *\n",
        "from keras.engine import Model\n",
        "from keras.layers import Input, Flatten, Dense, Activation, Conv2D, MaxPool2D, BatchNormalization, Dropout, MaxPooling2D\n",
        "import skimage\n",
        "from skimage.transform import rescale, resize\n",
        "\n",
        "import pydot"
      ],
      "execution_count": null,
      "outputs": [
        {
          "output_type": "stream",
          "text": [
            "Using TensorFlow backend.\n"
          ],
          "name": "stderr"
        }
      ]
    },
    {
      "cell_type": "code",
      "metadata": {
        "colab": {
          "base_uri": "https://localhost:8080/"
        },
        "id": "a8mYN2JvenH8",
        "outputId": "9ae74482-82fb-4330-a58c-6e7fa3b29a73"
      },
      "source": [
        "%tensorflow_version 1.x\n",
        "print(tf.__version__)\n",
        "print(keras.__version__)"
      ],
      "execution_count": null,
      "outputs": [
        {
          "output_type": "stream",
          "text": [
            "1.15.2\n",
            "2.3.1\n"
          ],
          "name": "stdout"
        }
      ]
    },
    {
      "cell_type": "code",
      "metadata": {
        "id": "iXTc4dJdexPt"
      },
      "source": [
        "from keras.optimizers import Adam\n",
        "from keras.optimizers import SGD"
      ],
      "execution_count": null,
      "outputs": []
    },
    {
      "cell_type": "markdown",
      "metadata": {
        "id": "jC8q-wKKaJ9O"
      },
      "source": [
        "### Load Data"
      ]
    },
    {
      "cell_type": "code",
      "metadata": {
        "id": "aXewhLJrq9ae"
      },
      "source": [
        "import pandas as pd\n",
        "import numpy as np\n",
        "import csv\n",
        "from PIL import Image"
      ],
      "execution_count": null,
      "outputs": []
    },
    {
      "cell_type": "code",
      "metadata": {
        "id": "S9THdqEQqPgA"
      },
      "source": [
        "df = pd.read_csv('/content/gdrive/My Drive/Data_For_Colab/IDS_705_Final_Project/fer2013.csv')"
      ],
      "execution_count": null,
      "outputs": []
    },
    {
      "cell_type": "code",
      "metadata": {
        "id": "7vQvl9nQqX13"
      },
      "source": [
        "emotions = {0:'angry', 1:'disgust', 2:'fear', 3:'happy', 4:'sad', 5:'surprise', 6:'neutral'}"
      ],
      "execution_count": null,
      "outputs": []
    },
    {
      "cell_type": "code",
      "metadata": {
        "id": "aAiQ94jzqdub"
      },
      "source": [
        "! rm -rf Training test-public test-private\n",
        "! mkdir Training test-public test-private"
      ],
      "execution_count": null,
      "outputs": []
    },
    {
      "cell_type": "code",
      "metadata": {
        "id": "r_BIPC9Rqe6k"
      },
      "source": [
        "from os import mkdir\n",
        "for root in (\"Training\", \"test-public\", \"test-private\"):\n",
        "  for emotion in emotions:\n",
        "    mkdir(f'{root}/' + f'{emotion} ' + f'{emotions[emotion]}')"
      ],
      "execution_count": null,
      "outputs": []
    },
    {
      "cell_type": "code",
      "metadata": {
        "colab": {
          "base_uri": "https://localhost:8080/"
        },
        "id": "1F1VtQOqqh2a",
        "outputId": "6c7fef00-1c58-4a02-b421-6c1dc9160500"
      },
      "source": [
        "! ls -l Training test-public test-private"
      ],
      "execution_count": null,
      "outputs": [
        {
          "output_type": "stream",
          "text": [
            "test-private:\n",
            "total 28\n",
            "drwxr-xr-x 2 root root 4096 Apr 20 13:35 '0 angry'\n",
            "drwxr-xr-x 2 root root 4096 Apr 20 13:35 '1 disgust'\n",
            "drwxr-xr-x 2 root root 4096 Apr 20 13:35 '2 fear'\n",
            "drwxr-xr-x 2 root root 4096 Apr 20 13:35 '3 happy'\n",
            "drwxr-xr-x 2 root root 4096 Apr 20 13:35 '4 sad'\n",
            "drwxr-xr-x 2 root root 4096 Apr 20 13:35 '5 surprise'\n",
            "drwxr-xr-x 2 root root 4096 Apr 20 13:35 '6 neutral'\n",
            "\n",
            "test-public:\n",
            "total 28\n",
            "drwxr-xr-x 2 root root 4096 Apr 20 13:35 '0 angry'\n",
            "drwxr-xr-x 2 root root 4096 Apr 20 13:35 '1 disgust'\n",
            "drwxr-xr-x 2 root root 4096 Apr 20 13:35 '2 fear'\n",
            "drwxr-xr-x 2 root root 4096 Apr 20 13:35 '3 happy'\n",
            "drwxr-xr-x 2 root root 4096 Apr 20 13:35 '4 sad'\n",
            "drwxr-xr-x 2 root root 4096 Apr 20 13:35 '5 surprise'\n",
            "drwxr-xr-x 2 root root 4096 Apr 20 13:35 '6 neutral'\n",
            "\n",
            "Training:\n",
            "total 28\n",
            "drwxr-xr-x 2 root root 4096 Apr 20 13:35 '0 angry'\n",
            "drwxr-xr-x 2 root root 4096 Apr 20 13:35 '1 disgust'\n",
            "drwxr-xr-x 2 root root 4096 Apr 20 13:35 '2 fear'\n",
            "drwxr-xr-x 2 root root 4096 Apr 20 13:35 '3 happy'\n",
            "drwxr-xr-x 2 root root 4096 Apr 20 13:35 '4 sad'\n",
            "drwxr-xr-x 2 root root 4096 Apr 20 13:35 '5 surprise'\n",
            "drwxr-xr-x 2 root root 4096 Apr 20 13:35 '6 neutral'\n"
          ],
          "name": "stdout"
        }
      ]
    },
    {
      "cell_type": "code",
      "metadata": {
        "id": "ghMwzm_mqj6L"
      },
      "source": [
        "count = 0\n",
        "for emotion,image_pixels,usage in zip(df['emotion'], df['pixels'], df['Usage']):\n",
        "    image_string = image_pixels.split(' ') #pixels are separated by spaces\n",
        "    image_data = np.asarray(image_string, dtype=np.uint8).reshape(48,48)\n",
        "    img = Image.fromarray(image_data) #final image\\\n",
        "    count_string = str(count).zfill(6)\n",
        "\n",
        "    path = ''\n",
        "    if usage == 'Training':\n",
        "        path = 'Training/'\n",
        "    elif usage == 'PublicTest':\n",
        "        path = 'test-public/'\n",
        "    elif usage == 'PrivateTest':\n",
        "        path = 'test-private/'\n",
        "    else:\n",
        "        print(\"Exception!\")\n",
        "    \n",
        "    # train/2 fear/fear-000001.png\n",
        "    img.save(path + f'{emotion} ' + f'{emotions[emotion]}/' + f'{emotions[emotion]}-{count_string}.png') \n",
        "    count += 1"
      ],
      "execution_count": null,
      "outputs": []
    },
    {
      "cell_type": "code",
      "metadata": {
        "colab": {
          "base_uri": "https://localhost:8080/"
        },
        "id": "OdpcXa1_qmzv",
        "outputId": "97151acd-af98-4ac7-96ab-a512379642c4"
      },
      "source": [
        "! ls -1 Training/* | wc -l\n",
        "! ls -1 test-private/* | wc -l\n",
        "! ls -1 test-public/* | wc -l"
      ],
      "execution_count": null,
      "outputs": [
        {
          "output_type": "stream",
          "text": [
            "28722\n",
            "3602\n",
            "3602\n"
          ],
          "name": "stdout"
        }
      ]
    },
    {
      "cell_type": "code",
      "metadata": {
        "colab": {
          "base_uri": "https://localhost:8080/"
        },
        "id": "AbqONuLBqoS0",
        "outputId": "d7d5e2e7-2c96-457f-ea4d-a2420ff72aee"
      },
      "source": [
        "%%bash\n",
        "root='test-private/'\n",
        "IFS=$(echo -en \"\\n\\b\")\n",
        "(for dir in $(ls -1 \"$root\")\n",
        "    do printf \"$dir: \" && ls -i \"$root$dir\" | wc -l\n",
        " done)"
      ],
      "execution_count": null,
      "outputs": [
        {
          "output_type": "stream",
          "text": [
            "0 angry: 491\n",
            "1 disgust: 55\n",
            "2 fear: 528\n",
            "3 happy: 879\n",
            "4 sad: 594\n",
            "5 surprise: 416\n",
            "6 neutral: 626\n"
          ],
          "name": "stdout"
        }
      ]
    },
    {
      "cell_type": "code",
      "metadata": {
        "id": "zBR9hoEqqy2l"
      },
      "source": [
        "%%bash\n",
        "\n",
        "(for dir in Training test-private test-public\n",
        "    #do rm -rf $dir/*.zip\n",
        "    do pushd $dir && zip -r $dir.zip * && popd\n",
        " done)"
      ],
      "execution_count": null,
      "outputs": []
    },
    {
      "cell_type": "markdown",
      "metadata": {
        "id": "O2pHOYxJa23-"
      },
      "source": [
        "### Data Generator"
      ]
    },
    {
      "cell_type": "code",
      "metadata": {
        "id": "2X5JtikstGZX"
      },
      "source": [
        "EPOCHS = 50\n",
        "BS = 128\n",
        "DROPOUT_RATE = 0.5\n",
        "FROZEN_LAYER_NUM = 170\n",
        "\n",
        "ADAM_LEARNING_RATE = 0.001\n",
        "SGD_LEARNING_RATE = 0.01\n",
        "SGD_DECAY = 0.0001\n",
        "\n",
        "Resize_pixelsize = 197"
      ],
      "execution_count": null,
      "outputs": []
    },
    {
      "cell_type": "code",
      "metadata": {
        "id": "PljQrSRVa6xX"
      },
      "source": [
        "from tensorflow.keras.preprocessing.image import ImageDataGenerator\n",
        "\n",
        "def get_datagen(dataset, aug=False):\n",
        "    if aug:\n",
        "        datagen = ImageDataGenerator(\n",
        "                            rescale=1./255,\n",
        "                            featurewise_center=False,\n",
        "                            featurewise_std_normalization=False,\n",
        "                            rotation_range=10,\n",
        "                            width_shift_range=0.1,\n",
        "                            height_shift_range=0.1,\n",
        "                            zoom_range=0.1,\n",
        "                            horizontal_flip=True)\n",
        "    else:\n",
        "        datagen = ImageDataGenerator(rescale=1./255)\n",
        "\n",
        "    return datagen.flow_from_directory(\n",
        "            dataset,\n",
        "            target_size=(197, 197),\n",
        "            color_mode='rgb',\n",
        "            shuffle = True,\n",
        "            class_mode='categorical',\n",
        "            batch_size=BS)"
      ],
      "execution_count": null,
      "outputs": []
    },
    {
      "cell_type": "code",
      "metadata": {
        "colab": {
          "base_uri": "https://localhost:8080/"
        },
        "id": "JT_Kx5Y8cR3W",
        "outputId": "a514bc10-561b-4a11-f50b-3fa1ea091c8d"
      },
      "source": [
        "train_generator  = get_datagen('/content/Training', True)\n",
        "dev_generator    = get_datagen('/content/test-private')\n",
        "test_generator  = get_datagen('/content/test-public')"
      ],
      "execution_count": null,
      "outputs": [
        {
          "output_type": "stream",
          "text": [
            "Found 28709 images belonging to 7 classes.\n",
            "Found 3589 images belonging to 7 classes.\n",
            "Found 3589 images belonging to 7 classes.\n"
          ],
          "name": "stdout"
        }
      ]
    },
    {
      "cell_type": "markdown",
      "metadata": {
        "id": "yzVdjsR0aV5a"
      },
      "source": [
        "### Build Model"
      ]
    },
    {
      "cell_type": "code",
      "metadata": {
        "id": "B18RL8ujdhij"
      },
      "source": [
        "vgg_notop = VGGFace(model='resnet50', include_top=False, input_shape=(197, 197, 3), pooling='avg')\n",
        "last_layer = vgg_notop.get_layer('avg_pool').output\n",
        "x = Flatten(name='flatten')(last_layer)\n",
        "x = Dropout(DROPOUT_RATE)(x)\n",
        "x = Dense(4096, activation='relu', name='fc6')(x)\n",
        "x = Dropout(DROPOUT_RATE)(x)\n",
        "x = Dense(1024, activation='relu', name='fc7')(x)\n",
        "x = Dropout(DROPOUT_RATE)(x)\n",
        "\n",
        "    \n",
        "batch_norm_indices = [2, 6, 9, 13, 14, 18, 21, 24, 28, 31, 34, 38, 41, 45, 46, 53, 56, 60, 63, 66, 70, 73, 76, 80, 83, 87, 88, 92, 95, 98, 102, 105, 108, 112, 115, 118, 122, 125, 128, 132, 135, 138, 142, 145, 149, 150, 154, 157, 160, 164, 167, 170]\n",
        "for i in range(FROZEN_LAYER_NUM):\n",
        "    if i not in batch_norm_indices:\n",
        "        vgg_notop.layers[i].trainable = False\n",
        "\n",
        "out = Dense(7, activation='softmax', name='classifier')(x)\n",
        "\n",
        "model = Model(vgg_notop.input, out)\n",
        "\n",
        "\n",
        "optim = keras.optimizers.Adam(lr=ADAM_LEARNING_RATE, beta_1=0.9, beta_2=0.999, epsilon=1e-08, decay=0.0)\n"
      ],
      "execution_count": null,
      "outputs": []
    },
    {
      "cell_type": "code",
      "metadata": {
        "id": "JSxXPHZZyq-x"
      },
      "source": [
        "# add early stopping\n",
        "from tensorflow.keras.callbacks import Callback, EarlyStopping, ReduceLROnPlateau\n",
        "\n",
        "early_stopping = EarlyStopping(\n",
        "    monitor='val_accuracy',\n",
        "    min_delta=0.00001,\n",
        "    patience=10,\n",
        "    verbose=1,\n",
        "    restore_best_weights=True,\n",
        ")"
      ],
      "execution_count": null,
      "outputs": []
    },
    {
      "cell_type": "code",
      "metadata": {
        "id": "wYaTcAhwyavd"
      },
      "source": [
        "model.compile(optimizer=optim, \n",
        "              loss='categorical_crossentropy', \n",
        "              metrics=['accuracy'])"
      ],
      "execution_count": null,
      "outputs": []
    },
    {
      "cell_type": "code",
      "metadata": {
        "colab": {
          "base_uri": "https://localhost:8080/"
        },
        "id": "7QNZrfCggS4K",
        "outputId": "085fe552-a848-40d1-f1ba-cdff925ce5b8"
      },
      "source": [
        "history = model.fit_generator(\n",
        "    generator = train_generator,\n",
        "    validation_data=dev_generator, \n",
        "    steps_per_epoch=28709// BS,\n",
        "    validation_steps=3509 // BS,\n",
        "    shuffle=True,\n",
        "    epochs=100,\n",
        "    callbacks = [early_stopping],\n",
        "    use_multiprocessing=True,\n",
        ")"
      ],
      "execution_count": 25,
      "outputs": [
        {
          "output_type": "stream",
          "text": [
            "Epoch 1/100\n",
            "224/224 [==============================] - 267s 1s/step - loss: 1.8980 - accuracy: 0.4060 - val_loss: 1.8606 - val_accuracy: 0.1693\n",
            "Epoch 2/100\n",
            "224/224 [==============================] - 270s 1s/step - loss: 1.1974 - accuracy: 0.5556 - val_loss: 1.8475 - val_accuracy: 0.1788\n",
            "Epoch 3/100\n",
            "224/224 [==============================] - 266s 1s/step - loss: 1.1015 - accuracy: 0.5905 - val_loss: 1.4790 - val_accuracy: 0.4647\n",
            "Epoch 4/100\n",
            "224/224 [==============================] - 261s 1s/step - loss: 1.0581 - accuracy: 0.6058 - val_loss: 1.0767 - val_accuracy: 0.6199\n",
            "Epoch 5/100\n",
            "224/224 [==============================] - 265s 1s/step - loss: 1.0114 - accuracy: 0.6261 - val_loss: 1.0475 - val_accuracy: 0.6538\n",
            "Epoch 6/100\n",
            "224/224 [==============================] - 266s 1s/step - loss: 0.9939 - accuracy: 0.6279 - val_loss: 0.8904 - val_accuracy: 0.6553\n",
            "Epoch 7/100\n",
            "224/224 [==============================] - 264s 1s/step - loss: 0.9660 - accuracy: 0.6414 - val_loss: 0.9151 - val_accuracy: 0.6574\n",
            "Epoch 8/100\n",
            "224/224 [==============================] - 260s 1s/step - loss: 0.9448 - accuracy: 0.6518 - val_loss: 0.8464 - val_accuracy: 0.6601\n",
            "Epoch 9/100\n",
            "224/224 [==============================] - 260s 1s/step - loss: 0.9251 - accuracy: 0.6556 - val_loss: 0.8477 - val_accuracy: 0.6763\n",
            "Epoch 10/100\n",
            "224/224 [==============================] - 259s 1s/step - loss: 0.9050 - accuracy: 0.6637 - val_loss: 0.8127 - val_accuracy: 0.6796\n",
            "Epoch 11/100\n",
            "224/224 [==============================] - 261s 1s/step - loss: 0.8888 - accuracy: 0.6696 - val_loss: 0.8631 - val_accuracy: 0.6787\n",
            "Epoch 12/100\n",
            "224/224 [==============================] - 265s 1s/step - loss: 0.8780 - accuracy: 0.6738 - val_loss: 0.9941 - val_accuracy: 0.6835\n",
            "Epoch 13/100\n",
            "224/224 [==============================] - 264s 1s/step - loss: 0.8614 - accuracy: 0.6745 - val_loss: 0.8683 - val_accuracy: 0.6925\n",
            "Epoch 14/100\n",
            "224/224 [==============================] - 268s 1s/step - loss: 0.8365 - accuracy: 0.6895 - val_loss: 0.9380 - val_accuracy: 0.6877\n",
            "Epoch 15/100\n",
            "224/224 [==============================] - 272s 1s/step - loss: 0.8297 - accuracy: 0.6886 - val_loss: 0.8078 - val_accuracy: 0.6953\n",
            "Epoch 16/100\n",
            "224/224 [==============================] - 262s 1s/step - loss: 0.8214 - accuracy: 0.6929 - val_loss: 0.8187 - val_accuracy: 0.6988\n",
            "Epoch 17/100\n",
            "224/224 [==============================] - 261s 1s/step - loss: 0.7999 - accuracy: 0.6991 - val_loss: 0.9739 - val_accuracy: 0.6877\n",
            "Epoch 18/100\n",
            "224/224 [==============================] - 259s 1s/step - loss: 0.7871 - accuracy: 0.7064 - val_loss: 0.8637 - val_accuracy: 0.7120\n",
            "Epoch 19/100\n",
            "224/224 [==============================] - 258s 1s/step - loss: 0.7781 - accuracy: 0.7102 - val_loss: 0.8590 - val_accuracy: 0.6937\n",
            "Epoch 20/100\n",
            "224/224 [==============================] - 256s 1s/step - loss: 0.7705 - accuracy: 0.7102 - val_loss: 0.7412 - val_accuracy: 0.7009\n",
            "Epoch 21/100\n",
            "224/224 [==============================] - 256s 1s/step - loss: 0.7593 - accuracy: 0.7135 - val_loss: 0.7684 - val_accuracy: 0.7084\n",
            "Epoch 22/100\n",
            "224/224 [==============================] - 263s 1s/step - loss: 0.7418 - accuracy: 0.7218 - val_loss: 0.9841 - val_accuracy: 0.6910\n",
            "Epoch 23/100\n",
            "224/224 [==============================] - 253s 1s/step - loss: 0.7340 - accuracy: 0.7223 - val_loss: 0.7324 - val_accuracy: 0.7039\n",
            "Epoch 24/100\n",
            "224/224 [==============================] - 256s 1s/step - loss: 0.7257 - accuracy: 0.7307 - val_loss: 0.8653 - val_accuracy: 0.7093\n",
            "Epoch 25/100\n",
            "224/224 [==============================] - 258s 1s/step - loss: 0.7079 - accuracy: 0.7346 - val_loss: 0.8111 - val_accuracy: 0.7060\n",
            "Epoch 26/100\n",
            "224/224 [==============================] - 255s 1s/step - loss: 0.6988 - accuracy: 0.7367 - val_loss: 0.7244 - val_accuracy: 0.7078\n",
            "Epoch 27/100\n",
            "224/224 [==============================] - 255s 1s/step - loss: 0.6869 - accuracy: 0.7423 - val_loss: 0.7392 - val_accuracy: 0.7138\n",
            "Epoch 28/100\n",
            "224/224 [==============================] - 253s 1s/step - loss: 0.6739 - accuracy: 0.7474 - val_loss: 0.8008 - val_accuracy: 0.7252\n",
            "Epoch 29/100\n",
            "224/224 [==============================] - 252s 1s/step - loss: 0.6670 - accuracy: 0.7524 - val_loss: 1.2285 - val_accuracy: 0.7051\n",
            "Epoch 30/100\n",
            "224/224 [==============================] - 254s 1s/step - loss: 0.6543 - accuracy: 0.7569 - val_loss: 0.7727 - val_accuracy: 0.7066\n",
            "Epoch 31/100\n",
            "224/224 [==============================] - 252s 1s/step - loss: 0.6507 - accuracy: 0.7567 - val_loss: 0.7840 - val_accuracy: 0.7132\n",
            "Epoch 32/100\n",
            "224/224 [==============================] - 252s 1s/step - loss: 0.6322 - accuracy: 0.7647 - val_loss: 0.7400 - val_accuracy: 0.7234\n",
            "Epoch 33/100\n",
            "224/224 [==============================] - 254s 1s/step - loss: 0.6254 - accuracy: 0.7643 - val_loss: 0.9975 - val_accuracy: 0.7234\n",
            "Epoch 34/100\n",
            "224/224 [==============================] - 261s 1s/step - loss: 0.6182 - accuracy: 0.7714 - val_loss: 0.8258 - val_accuracy: 0.7210\n",
            "Epoch 35/100\n",
            "224/224 [==============================] - 256s 1s/step - loss: 0.6053 - accuracy: 0.7765 - val_loss: 0.7750 - val_accuracy: 0.7222\n",
            "Epoch 36/100\n",
            "224/224 [==============================] - 254s 1s/step - loss: 0.6003 - accuracy: 0.7771 - val_loss: 0.6630 - val_accuracy: 0.7246\n",
            "Epoch 37/100\n",
            "224/224 [==============================] - 254s 1s/step - loss: 0.5781 - accuracy: 0.7865 - val_loss: 0.8902 - val_accuracy: 0.7261\n",
            "Epoch 38/100\n",
            "224/224 [==============================] - 256s 1s/step - loss: 0.5774 - accuracy: 0.7852 - val_loss: 0.8029 - val_accuracy: 0.7168\n",
            "Epoch 39/100\n",
            "224/224 [==============================] - 252s 1s/step - loss: 0.5780 - accuracy: 0.7866 - val_loss: 0.7627 - val_accuracy: 0.7174\n",
            "Epoch 40/100\n",
            "224/224 [==============================] - 252s 1s/step - loss: 0.5604 - accuracy: 0.7937 - val_loss: 0.7605 - val_accuracy: 0.7219\n",
            "Epoch 41/100\n",
            "224/224 [==============================] - 252s 1s/step - loss: 0.5411 - accuracy: 0.8010 - val_loss: 0.7240 - val_accuracy: 0.7231\n",
            "Epoch 42/100\n",
            "224/224 [==============================] - 250s 1s/step - loss: 0.5409 - accuracy: 0.8010 - val_loss: 0.7808 - val_accuracy: 0.7084\n",
            "Epoch 43/100\n",
            "224/224 [==============================] - 256s 1s/step - loss: 0.5379 - accuracy: 0.8005 - val_loss: 0.8983 - val_accuracy: 0.7195\n",
            "Epoch 44/100\n",
            "224/224 [==============================] - 251s 1s/step - loss: 0.5167 - accuracy: 0.8079 - val_loss: 0.9226 - val_accuracy: 0.7170\n",
            "Epoch 45/100\n",
            "224/224 [==============================] - 254s 1s/step - loss: 0.5342 - accuracy: 0.8054 - val_loss: 0.9628 - val_accuracy: 0.7192\n",
            "Epoch 46/100\n",
            "224/224 [==============================] - 256s 1s/step - loss: 0.5204 - accuracy: 0.8091 - val_loss: 0.8013 - val_accuracy: 0.7261\n",
            "Epoch 47/100\n",
            "224/224 [==============================] - 264s 1s/step - loss: 0.4949 - accuracy: 0.8174 - val_loss: 0.8370 - val_accuracy: 0.7306\n",
            "Epoch 48/100\n",
            "224/224 [==============================] - 266s 1s/step - loss: 0.5006 - accuracy: 0.8172 - val_loss: 0.6572 - val_accuracy: 0.7258\n",
            "Epoch 49/100\n",
            "224/224 [==============================] - 262s 1s/step - loss: 0.4911 - accuracy: 0.8191 - val_loss: 0.7013 - val_accuracy: 0.7291\n",
            "Epoch 50/100\n",
            "224/224 [==============================] - 261s 1s/step - loss: 0.4865 - accuracy: 0.8229 - val_loss: 0.7805 - val_accuracy: 0.7216\n",
            "Epoch 51/100\n",
            "224/224 [==============================] - 260s 1s/step - loss: 0.4748 - accuracy: 0.8286 - val_loss: 0.7730 - val_accuracy: 0.7216\n",
            "Epoch 52/100\n",
            "224/224 [==============================] - 258s 1s/step - loss: 0.4734 - accuracy: 0.8278 - val_loss: 0.8546 - val_accuracy: 0.7171\n",
            "Epoch 53/100\n",
            "224/224 [==============================] - 254s 1s/step - loss: 0.4540 - accuracy: 0.8329 - val_loss: 0.6918 - val_accuracy: 0.7174\n",
            "Epoch 54/100\n",
            "224/224 [==============================] - 254s 1s/step - loss: 0.4523 - accuracy: 0.8350 - val_loss: 0.9882 - val_accuracy: 0.7228\n",
            "Epoch 55/100\n",
            "224/224 [==============================] - 260s 1s/step - loss: 0.4482 - accuracy: 0.8383 - val_loss: 0.8190 - val_accuracy: 0.7315\n",
            "Epoch 56/100\n",
            "224/224 [==============================] - 260s 1s/step - loss: 0.4294 - accuracy: 0.8408 - val_loss: 0.6388 - val_accuracy: 0.7240\n",
            "Epoch 57/100\n",
            "224/224 [==============================] - 259s 1s/step - loss: 0.4333 - accuracy: 0.8423 - val_loss: 0.8609 - val_accuracy: 0.7237\n",
            "Epoch 58/100\n",
            "224/224 [==============================] - 259s 1s/step - loss: 0.4265 - accuracy: 0.8462 - val_loss: 0.6869 - val_accuracy: 0.7207\n",
            "Epoch 59/100\n",
            "224/224 [==============================] - 261s 1s/step - loss: 0.4233 - accuracy: 0.8479 - val_loss: 0.7257 - val_accuracy: 0.7222\n",
            "Epoch 60/100\n",
            "224/224 [==============================] - 264s 1s/step - loss: 0.4140 - accuracy: 0.8501 - val_loss: 0.7592 - val_accuracy: 0.7258\n",
            "Epoch 61/100\n",
            "224/224 [==============================] - 263s 1s/step - loss: 0.4212 - accuracy: 0.8505 - val_loss: 0.9918 - val_accuracy: 0.7276\n",
            "Epoch 62/100\n",
            "224/224 [==============================] - 265s 1s/step - loss: 0.4050 - accuracy: 0.8564 - val_loss: 1.0800 - val_accuracy: 0.7291\n",
            "Epoch 63/100\n",
            "224/224 [==============================] - 272s 1s/step - loss: 0.4068 - accuracy: 0.8554 - val_loss: 0.7662 - val_accuracy: 0.7381\n",
            "Epoch 64/100\n",
            "224/224 [==============================] - 267s 1s/step - loss: 0.4011 - accuracy: 0.8562 - val_loss: 0.8900 - val_accuracy: 0.7186\n",
            "Epoch 65/100\n",
            "224/224 [==============================] - 266s 1s/step - loss: 0.4014 - accuracy: 0.8563 - val_loss: 0.6811 - val_accuracy: 0.7285\n",
            "Epoch 66/100\n",
            "224/224 [==============================] - 267s 1s/step - loss: 0.3951 - accuracy: 0.8598 - val_loss: 0.8340 - val_accuracy: 0.7372\n",
            "Epoch 67/100\n",
            "224/224 [==============================] - 268s 1s/step - loss: 0.3905 - accuracy: 0.8587 - val_loss: 0.7398 - val_accuracy: 0.7309\n",
            "Epoch 68/100\n",
            "224/224 [==============================] - 266s 1s/step - loss: 0.3914 - accuracy: 0.8597 - val_loss: 0.9202 - val_accuracy: 0.7243\n",
            "Epoch 69/100\n",
            "224/224 [==============================] - 265s 1s/step - loss: 0.3764 - accuracy: 0.8633 - val_loss: 0.6939 - val_accuracy: 0.7321\n",
            "Epoch 70/100\n",
            "224/224 [==============================] - 262s 1s/step - loss: 0.3760 - accuracy: 0.8633 - val_loss: 0.7976 - val_accuracy: 0.7168\n",
            "Epoch 71/100\n",
            "224/224 [==============================] - 262s 1s/step - loss: 0.3807 - accuracy: 0.8648 - val_loss: 0.7940 - val_accuracy: 0.7279\n",
            "Epoch 72/100\n",
            "224/224 [==============================] - 263s 1s/step - loss: 0.3723 - accuracy: 0.8651 - val_loss: 1.0059 - val_accuracy: 0.7225\n",
            "Epoch 73/100\n",
            "224/224 [==============================] - 262s 1s/step - loss: 0.3583 - accuracy: 0.8720 - val_loss: 0.8414 - val_accuracy: 0.7300\n",
            "Restoring model weights from the end of the best epoch.\n",
            "Epoch 00073: early stopping\n"
          ],
          "name": "stdout"
        }
      ]
    },
    {
      "cell_type": "code",
      "metadata": {
        "id": "LrQoauGovMug"
      },
      "source": [
        ""
      ],
      "execution_count": null,
      "outputs": []
    },
    {
      "cell_type": "code",
      "metadata": {
        "id": "dpE4QoEki_sV"
      },
      "source": [
        "#saving the model\n",
        "import os\n",
        "\n",
        "os.chdir(\"//content/gdrive/My Drive/saved_model/\")\n",
        "model.save(\"model_ResNet.h5\")"
      ],
      "execution_count": 26,
      "outputs": []
    },
    {
      "cell_type": "code",
      "metadata": {
        "id": "x-WRhFWKptKS"
      },
      "source": [
        "model.save_weights(\"model_ResNet_weight.h5\")"
      ],
      "execution_count": 27,
      "outputs": []
    },
    {
      "cell_type": "code",
      "metadata": {
        "id": "Djv4DfgdmzEU",
        "colab": {
          "base_uri": "https://localhost:8080/",
          "height": 455
        },
        "outputId": "c3c68447-bf51-4283-c710-09bd4b83a277"
      },
      "source": [
        "import matplotlib.pyplot as plt\n",
        "import seaborn as sns\n",
        "\n",
        "\n",
        "sns.set()\n",
        "fig = plt.figure(0, (12, 4))\n",
        "\n",
        "ax = plt.subplot(1, 2, 1)\n",
        "sns.lineplot(history.epoch, history.history['accuracy'], label='train')\n",
        "sns.lineplot(history.epoch, history.history['val_accuracy'], label='valid')\n",
        "plt.title('Accuracy')\n",
        "plt.tight_layout()\n",
        "\n",
        "ax = plt.subplot(1, 2, 2)\n",
        "sns.lineplot(history.epoch, history.history['loss'], label='train')\n",
        "sns.lineplot(history.epoch, history.history['val_loss'], label='valid')\n",
        "plt.title('Loss')\n",
        "plt.tight_layout()\n",
        "\n",
        "plt.savefig('epoch_history_resnet.png')\n",
        "plt.show()"
      ],
      "execution_count": 28,
      "outputs": [
        {
          "output_type": "stream",
          "text": [
            "/usr/local/lib/python3.7/dist-packages/seaborn/_decorators.py:43: FutureWarning: Pass the following variables as keyword args: x, y. From version 0.12, the only valid positional argument will be `data`, and passing other arguments without an explicit keyword will result in an error or misinterpretation.\n",
            "  FutureWarning\n",
            "/usr/local/lib/python3.7/dist-packages/seaborn/_decorators.py:43: FutureWarning: Pass the following variables as keyword args: x, y. From version 0.12, the only valid positional argument will be `data`, and passing other arguments without an explicit keyword will result in an error or misinterpretation.\n",
            "  FutureWarning\n",
            "/usr/local/lib/python3.7/dist-packages/seaborn/_decorators.py:43: FutureWarning: Pass the following variables as keyword args: x, y. From version 0.12, the only valid positional argument will be `data`, and passing other arguments without an explicit keyword will result in an error or misinterpretation.\n",
            "  FutureWarning\n",
            "/usr/local/lib/python3.7/dist-packages/seaborn/_decorators.py:43: FutureWarning: Pass the following variables as keyword args: x, y. From version 0.12, the only valid positional argument will be `data`, and passing other arguments without an explicit keyword will result in an error or misinterpretation.\n",
            "  FutureWarning\n"
          ],
          "name": "stderr"
        },
        {
          "output_type": "display_data",
          "data": {
            "image/png": "[encoded data removed]",
            "text/plain": [
              "<Figure size 864x288 with 2 Axes>"
            ]
          },
          "metadata": {
            "tags": []
          }
        }
      ]
    },
    {
      "cell_type": "code",
      "metadata": {
        "colab": {
          "base_uri": "https://localhost:8080/"
        },
        "id": "IDNkaQTnp08F",
        "outputId": "7adbd614-269f-4a58-90aa-52baa4be865a"
      },
      "source": [
        "from sklearn.metrics import classification_report\n",
        "\n",
        "y_test_pred = model.evaluate_generator(test_generator, 3589//128)\n",
        "\n",
        "print('test loss, test acc:', y_test_pred)"
      ],
      "execution_count": 33,
      "outputs": [
        {
          "output_type": "stream",
          "text": [
            "test loss, test acc: [1.0646711587905884, 0.720703125]\n"
          ],
          "name": "stdout"
        }
      ]
    },
    {
      "cell_type": "code",
      "metadata": {
        "id": "QtP86wFhsIOd"
      },
      "source": [
        "from sklearn.metrics import confusion_matrix\n",
        "import itertools\n",
        "\n",
        "y_test_pred = model.predict_classes(X_test)\n",
        "\n",
        "plt.figure(figsize = (10,10))\n",
        "cm = confusion_matrix(y_test, y_test_pred)\n",
        "\n",
        "plt.imshow(cm, interpolation='nearest', cmap=plt.cm.Blues)\n",
        "plt.title('confusion matrix')\n",
        "plt.colorbar()\n",
        "tick_marks = np.arange(len(emotion))\n",
        "plt.xticks(tick_marks, emotion, rotation=45)\n",
        "plt.yticks(tick_marks, emotion)\n",
        "fmt = 'd'\n",
        "thresh = cm.max() / 2.\n",
        "for i, j in itertools.product(range(cm.shape[0]), range(cm.shape[1])):\n",
        "    plt.text(j, i, format(cm[i, j], fmt),\n",
        "            horizontalalignment=\"center\",\n",
        "            color=\"white\" if cm[i, j] > thresh else \"black\")\n",
        "\n",
        "plt.ylabel('True label')\n",
        "plt.xlabel('Predicted label')\n",
        "plt.tight_layout()\n",
        "plt.show()"
      ],
      "execution_count": null,
      "outputs": []
    }
  ]
}